{
 "cells": [
  {
   "cell_type": "code",
   "execution_count": 5,
   "metadata": {},
   "outputs": [
    {
     "data": {
      "application/vnd.jupyter.widget-view+json": {
       "model_id": "efae4f547bf241389c2c4b8da99150a0",
       "version_major": 2,
       "version_minor": 0
      },
      "text/plain": [
       "interactive(children=(IntSlider(value=5, description='size', min=2), Output()), _dom_classes=('widget-interact…"
      ]
     },
     "metadata": {},
     "output_type": "display_data"
    }
   ],
   "source": [
    "# nbi:hide_in\n",
    "\n",
    "import numpy as np\n",
    "import matplotlib.pyplot as plt\n",
    "import seaborn as sns; sns.set()\n",
    "from ipywidgets import interact\n",
    "import ipywidgets as widgets\n",
    "\n",
    "def jars90_10(size=5):\n",
    "      np.random.seed(1)\n",
    "      redblue = np.array([\"red\",\"blue\"])\n",
    "      redJar = np.repeat(redblue, [90,10], axis=0)\n",
    "      blueJar = np.repeat(redblue, [10,90], axis=0)\n",
    "\n",
    "      nreps= 1000\n",
    "      sizes= np.array([1,5,10,25,50,75])\n",
    "      i=0 #count\n",
    "\n",
    "      nred= np.array([])  ##will include the distribution of percentage of red balls in sample\n",
    "      nblue= np.array([])\n",
    "      for rep in range(nreps):\n",
    "        sampleRed = np.random.choice(redJar, size, replace=False)\n",
    "        sampleBlue = np.random.choice(blueJar, size, replace=False)\n",
    "      ##calculating percentage of red balls in the sample\n",
    "        redinRed = len([red for red in sampleRed if red == \"red\"])/len(sampleRed);\n",
    "        redinBlue = len([red for red in sampleBlue if red == \"red\"])/len(sampleBlue);\n",
    "        nred = np.append(nred, [redinRed]);\n",
    "        nblue = np.append(nblue, [redinBlue]);\n",
    "\n",
    "      plt.figure(0,figsize=(8,4))\n",
    "      sns.histplot(nred, kde=False, bins = int(50/size+3), color=\"red\");\n",
    "      plt.xlabel(\"% of red balls in the red jar sample\");\n",
    "      plt.ylabel(\"Number of samples\");\n",
    "      plt.xlim(0,1)\n",
    "      plt.xticks(np.arange(0.1, 1.1, step=0.1))\n",
    "      plt.title( 'N (Number of balls we take out) = ' + str(size), fontweight=\"bold\")\n",
    "    \n",
    "      plt.figure(1,figsize=(8,4))\n",
    "      sns.histplot(nblue, kde=False,bins = int(50/size+3), color=\"blue\");\n",
    "      plt.xlabel(\"% of red balls in the blue jar sample\");\n",
    "      plt.ylabel(\"Number of samples\");\n",
    "      plt.xlim(0,1)\n",
    "      plt.xticks(np.arange(0.1, 1.1, step=0.1))\n",
    "      plt.title( 'N (Number of balls we take out) = ' + str(size), fontweight=\"bold\")\n",
    "      \n",
    "      plt.figure(2,figsize=(8,4))\n",
    "      sns.histplot(nblue, kde=False, bins = int(50/size+3), color=\"blue\");\n",
    "      sns.histplot(nred, kde=False, bins = int(50/size+3), color=\"red\");\n",
    "      plt.xlabel(\"% of red balls in the both samples\");\n",
    "      plt.ylabel(\"Number of samples\");\n",
    "      plt.xlim(0,1)\n",
    "      plt.xticks(np.arange(0.1, 1.1, step=0.1))\n",
    "      plt.title( 'N (Number of balls we take out) = ' + str(size), fontweight=\"bold\")\n",
    "\n",
    "_=interact(jars90_10,size=(2,100))"
   ]
  },
  {
   "cell_type": "code",
   "execution_count": null,
   "metadata": {},
   "outputs": [],
   "source": []
  }
 ],
 "metadata": {
  "kernelspec": {
   "display_name": "Python 3 (ipykernel)",
   "language": "python",
   "name": "python3"
  },
  "language_info": {
   "codemirror_mode": {
    "name": "ipython",
    "version": 3
   },
   "file_extension": ".py",
   "mimetype": "text/x-python",
   "name": "python",
   "nbconvert_exporter": "python",
   "pygments_lexer": "ipython3",
   "version": "3.7.12"
  }
 },
 "nbformat": 4,
 "nbformat_minor": 4
}

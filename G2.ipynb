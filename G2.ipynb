{
 "cells": [
  {
   "cell_type": "code",
   "execution_count": 1,
   "id": "0249228b-37bb-49aa-bf70-8b349594065b",
   "metadata": {},
   "outputs": [
    {
     "data": {
      "application/vnd.jupyter.widget-view+json": {
       "model_id": "7a1fa5214dad43cf815fd56ed9608fa6",
       "version_major": 2,
       "version_minor": 0
      },
      "text/plain": [
       "interactive(children=(IntSlider(value=5, description='SamplesNum', layout=Layout(width='800px'), max=1000, min…"
      ]
     },
     "metadata": {},
     "output_type": "display_data"
    }
   ],
   "source": [
    "# nbi:hide_in \n",
    "import pandas as pd\n",
    "import seaborn as sns\n",
    "import numpy as np\n",
    "import matplotlib.pyplot as plt\n",
    "from ipywidgets import interact, interactive, fixed, interact_manual, Layout, IntSlider\n",
    "import ipywidgets as widgets\n",
    "import random\n",
    "\n",
    "data2 = pd.read_csv(\"data2.csv\")\n",
    "heightSim = data2['Height']\n",
    "\n",
    "def mean_boot(SamplesNum=5, Sample_Size = 30):  \n",
    "  np.random.seed(1)\n",
    "  meanHeight = np.zeros(SamplesNum)\n",
    "  for i in range(SamplesNum):\n",
    "      SampledHeight=random.choices(heightSim, k=Sample_Size)\n",
    "      meanHeight[i]=np.mean(SampledHeight)\n",
    "  \n",
    "  meanMeanHieght=np.mean(meanHeight)\n",
    "  sns.displot(meanHeight, kde=False, rug=True, height=5,aspect = 2, color = \"mediumpurple\");\n",
    "  plt.axvline(x=meanMeanHieght, color='purple', linestyle='-',label= meanMeanHieght);\n",
    "  plt.xlim(160, 175)\n",
    "  plt.xlabel('Along the X axis are the values of the different means of the different samples we took from the population');\n",
    "  plt.ylabel('Frequency', size = 18);\n",
    "\n",
    "  plt.legend()\n",
    "style = {'description_width': 'initial'}\n",
    "int_widget = interactive(mean_boot,SamplesNum=(5,1000,5), Sample_Size=(2,200), style = style)\n",
    "int_widget.children[0].layout = Layout(width='800px')\n",
    "int_widget.children[1].layout = Layout(width='500px')\n",
    "display(int_widget)\n"
   ]
  },
  {
   "cell_type": "code",
   "execution_count": null,
   "id": "89c3a53c-c045-441c-8cdb-54e9266a6ab5",
   "metadata": {},
   "outputs": [],
   "source": []
  },
  {
   "cell_type": "code",
   "execution_count": null,
   "id": "26f5387b-8933-4491-9798-f70fa93ebb4e",
   "metadata": {},
   "outputs": [],
   "source": []
  }
 ],
 "metadata": {
  "kernelspec": {
   "display_name": "Python 3 (ipykernel)",
   "language": "python",
   "name": "python3"
  },
  "language_info": {
   "codemirror_mode": {
    "name": "ipython",
    "version": 3
   },
   "file_extension": ".py",
   "mimetype": "text/x-python",
   "name": "python",
   "nbconvert_exporter": "python",
   "pygments_lexer": "ipython3",
   "version": "3.7.12"
  }
 },
 "nbformat": 4,
 "nbformat_minor": 5
}

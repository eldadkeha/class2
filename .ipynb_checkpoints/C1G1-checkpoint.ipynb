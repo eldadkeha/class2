{
 "cells": [
  {
   "cell_type": "code",
   "execution_count": 31,
   "id": "83ca2be7-8700-4806-8255-07c098e05964",
   "metadata": {},
   "outputs": [
    {
     "data": {
      "application/vnd.jupyter.widget-view+json": {
       "model_id": "752b29a16f9846f692afce8264bf202f",
       "version_major": 2,
       "version_minor": 0
      },
      "text/plain": [
       "interactive(children=(IntSlider(value=5, description='Sample_Size', layout=Layout(width='500px'), max=1000, mi…"
      ]
     },
     "metadata": {},
     "output_type": "display_data"
    }
   ],
   "source": [
    "# nbi:hide_in \n",
    "import pandas as pd\n",
    "import seaborn as sns\n",
    "import numpy as np\n",
    "import matplotlib.pyplot as plt\n",
    "from ipywidgets import interact, interactive, fixed, interact_manual, Layout\n",
    "import ipywidgets as widgets\n",
    "import random\n",
    "import layouts\n",
    "\n",
    "#@title One sample from heights distribution\n",
    "data2 = pd.read_csv(\"data2.csv\")\n",
    "heightSim = data2['Height']\n",
    "\n",
    "def changeSampleSize(Sample_Size=5):\n",
    "  np.random.seed(4)\n",
    "  SampledHeight=random.choices(heightSim, k=Sample_Size)\n",
    "  meanHgt=np.mean(SampledHeight)\n",
    "\n",
    "  sns.displot(SampledHeight,bins=10, kde=False, rug=True, height=6, color = \"mediumpurple\");\n",
    "\n",
    "  plt.xlim(140, 220)\n",
    "  plt.xlabel('Height');\n",
    "  plt.ylabel('Frequency');\n",
    "  plt.axvline(x=meanHgt, color='purple', linestyle='-', linewidth = 3, label=meanHgt);\n",
    "  plt.legend ();\n",
    "\n",
    "int_widget = interactive(changeSampleSize,Sample_Size=(2,1000))\n",
    "int_widget.children[0].layout = Layout(width='500px')\n",
    "display(int_widget)\n",
    "\n"
   ]
  },
  {
   "cell_type": "code",
   "execution_count": null,
   "id": "49cb81c7-827c-45e9-9573-9ea7ac762952",
   "metadata": {},
   "outputs": [],
   "source": []
  }
 ],
 "metadata": {
  "kernelspec": {
   "display_name": "Python 3 (ipykernel)",
   "language": "python",
   "name": "python3"
  },
  "language_info": {
   "codemirror_mode": {
    "name": "ipython",
    "version": 3
   },
   "file_extension": ".py",
   "mimetype": "text/x-python",
   "name": "python",
   "nbconvert_exporter": "python",
   "pygments_lexer": "ipython3",
   "version": "3.7.12"
  }
 },
 "nbformat": 4,
 "nbformat_minor": 5
}

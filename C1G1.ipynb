{
 "cells": [
  {
   "cell_type": "code",
   "execution_count": 36,
   "id": "83ca2be7-8700-4806-8255-07c098e05964",
   "metadata": {},
   "outputs": [
    {
     "data": {
      "application/vnd.jupyter.widget-view+json": {
       "model_id": "b56621a7ab134090baa4c1235a1693a4",
       "version_major": 2,
       "version_minor": 0
      },
      "text/plain": [
       "interactive(children=(IntSlider(value=5, description='Number_Of_Samples', layout=Layout(width='800px'), max=10…"
      ]
     },
     "metadata": {},
     "output_type": "display_data"
    }
   ],
   "source": [
    "# nbi:hide_in \n",
    "import pandas as pd\n",
    "import seaborn as sns\n",
    "import numpy as np\n",
    "import matplotlib.pyplot as plt\n",
    "from ipywidgets import interact, interactive, fixed, interact_manual, Layout\n",
    "import ipywidgets as widgets\n",
    "import random\n",
    "import layouts\n",
    "\n",
    "data2 = pd.read_csv(\"data2.csv\")\n",
    "heightSim = data2['Height']\n",
    "\n",
    "def mean_boot(Number_Of_Samples=5, Sample_Size = 30):  \n",
    "  np.random.seed(1)\n",
    "  meanHeight = np.zeros(Number_Of_Samples)\n",
    "  for i in range(Number_Of_Samples):\n",
    "      SampledHeight=random.choices(heightSim, k=Sample_Size)\n",
    "      meanHeight[i]=np.mean(SampledHeight)\n",
    "  \n",
    "  meanMeanHieght=np.mean(meanHeight)\n",
    "  sns.displot(meanHeight, kde=False, rug=True, height=5,aspect = 2, color = \"mediumpurple\");\n",
    "  plt.axvline(x=meanMeanHieght, color='purple', linestyle='-',label= meanMeanHieght);\n",
    "  plt.xlim(160, 175)\n",
    "  plt.xlabel('Along the X axis are the values of the different means of the different samples we took from the population');\n",
    "  plt.ylabel('Frequency');\n",
    "\n",
    "  plt.legend()\n",
    "int_widget = interactive(mean_boot,Number_Of_Samples=(5,1000,5), Sample_Size=(2,200))\n",
    "int_widget.children[0].layout = Layout(width='800px')\n",
    "int_widget.children[1].layout = Layout(width='500px')\n",
    "display(int_widget)\n"
   ]
  },
  {
   "cell_type": "code",
   "execution_count": null,
   "id": "77365698-e504-48ad-968e-1a36e11d49ed",
   "metadata": {},
   "outputs": [],
   "source": []
  },
  {
   "cell_type": "code",
   "execution_count": null,
   "id": "fa54e678-7373-493a-ad76-d408c941aaa0",
   "metadata": {},
   "outputs": [],
   "source": []
  }
 ],
 "metadata": {
  "kernelspec": {
   "display_name": "Python 3 (ipykernel)",
   "language": "python",
   "name": "python3"
  },
  "language_info": {
   "codemirror_mode": {
    "name": "ipython",
    "version": 3
   },
   "file_extension": ".py",
   "mimetype": "text/x-python",
   "name": "python",
   "nbconvert_exporter": "python",
   "pygments_lexer": "ipython3",
   "version": "3.7.12"
  }
 },
 "nbformat": 4,
 "nbformat_minor": 5
}
